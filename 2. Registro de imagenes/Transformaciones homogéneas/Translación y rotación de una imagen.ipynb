{
 "cells": [
  {
   "cell_type": "markdown",
   "id": "dbbc49a3",
   "metadata": {},
   "source": [
    "## Translación y rotación de una imagen\n",
    "\n",
    "A continuacion se describe la implementación en python de un algortimo para realizar traslacion y rotación de una imagen.\n",
    "\n",
    "Se utilizan la biblioteca de OpenCV para leer y mostrar imagenes."
   ]
  },
  {
   "cell_type": "markdown",
   "id": "0cace7ad",
   "metadata": {},
   "source": [
    "Se importan los modulos necesarios:"
   ]
  },
  {
   "cell_type": "code",
   "execution_count": 1,
   "id": "010afa5f",
   "metadata": {},
   "outputs": [],
   "source": [
    "import cv2\n",
    "import numpy as np\n",
    "import math\n",
    "\n"
   ]
  },
  {
   "cell_type": "markdown",
   "id": "d811a851",
   "metadata": {},
   "source": [
    "Se guarda la imagen de entrada en \"image\" y se convierte a escala de grises.\n",
    "\n",
    "<img src=\"estadio.jpg\" width=\"300\">"
   ]
  },
  {
   "cell_type": "code",
   "execution_count": 2,
   "id": "34f93486",
   "metadata": {},
   "outputs": [],
   "source": [
    "image = cv2.imread('estadio.jpg')\n",
    "gray = cv2.cvtColor(image, cv2.COLOR_BGR2GRAY)\n",
    "\n",
    "cv2.imshow(\"Imagen en gris\", gray)"
   ]
  },
  {
   "cell_type": "markdown",
   "id": "9fd84e49",
   "metadata": {},
   "source": [
    "Se inializan con zeros los arreglos que contendrán las imágenes de salida"
   ]
  },
  {
   "cell_type": "code",
   "execution_count": 3,
   "id": "c839bfd5",
   "metadata": {},
   "outputs": [],
   "source": [
    "y_max, x_max = gray.shape[:2] #y=height, x=width\n",
    "#Matrices de salida\n",
    "gray_translated = np.zeros((y_max, x_max),np.float32) \n",
    "gray_rotated = np.zeros((y_max, x_max),np.float32) \n",
    "gray_transRot = np.zeros((y_max, x_max),np.float32) \n"
   ]
  },
  {
   "cell_type": "markdown",
   "id": "84e86abf",
   "metadata": {},
   "source": [
    "Se especifican las entradas para traslación y rotación.\n",
    "\n",
    "En traslación: \"x_t\" es la cantidad a desplazar en el eje \"x\" y \"y_t\" en el eje \"y\"\n",
    "\n",
    "En rotación: Se da un ángulo de entrada $\\theta$ en grados. Se convierte el ángulo a radiones y se calculan su $cos(\\theta)$ y $sin(\\theta)$"
   ]
  },
  {
   "cell_type": "code",
   "execution_count": 4,
   "id": "77360963",
   "metadata": {},
   "outputs": [],
   "source": [
    "#Traslación entrada\n",
    "x_t=100\n",
    "y_t=0\n",
    "\n",
    "#Angulo de entrada\n",
    "theta=70\n",
    "angulo = math.radians(theta)\n",
    "coseno=math.cos(angulo)\n",
    "seno=math.sin(angulo)\n"
   ]
  },
  {
   "cell_type": "markdown",
   "id": "66c674b7",
   "metadata": {},
   "source": [
    "Se debe especificar un centro sobre el que se realiza la rotación.\n",
    "\n",
    "En este caso se elije el centro de la imagen."
   ]
  },
  {
   "cell_type": "code",
   "execution_count": 5,
   "id": "feb4d77c",
   "metadata": {},
   "outputs": [],
   "source": [
    "#Origen. centro de rotacion\n",
    "centro_y= y_max/2\n",
    "centro_x= x_max/2"
   ]
  },
  {
   "cell_type": "markdown",
   "id": "52bc8993",
   "metadata": {},
   "source": [
    "Para la operación de traslación se recorre el arreglo de entrada en cada pixel.\n",
    "\n",
    "Para llenar el arreglo de salida se siguen las ecuaciones\n",
    "\n",
    "$ x' = x + t_{x}  $\n",
    "\n",
    "$ y' = y + t_{y}  $\n",
    "\n",
    "Donde $x$ y $y$ son los indices del pixel actual y $t_{x}, t_{y}$ son los desplazamientos de entrada que se declararon anteriormente.\n",
    "\n",
    "Como openCV considera valores de 0 a 1 para desplegar imágenes, se normaliza el arreglo de salida dividiendo entre 255.0"
   ]
  },
  {
   "cell_type": "code",
   "execution_count": 6,
   "id": "d2f74763",
   "metadata": {},
   "outputs": [],
   "source": [
    "###TRASLACIÓN\n",
    "for y in range(y_max):\n",
    "    for x in range(x_max):\n",
    "        y_p = y + y_t\n",
    "        x_p = x + x_t\n",
    "        if 0<= y_p < y_max  and 0<= x_p < x_max :\n",
    "            gray_translated[y_p,x_p]= gray[y,x] *(1.0/255.0)\n",
    "            \n",
    "cv2.imshow('Imagen Trasladada', gray_translated)"
   ]
  },
  {
   "cell_type": "markdown",
   "id": "dc080d71",
   "metadata": {},
   "source": [
    "El caso de la rotación es parecido. Para encontrar las nuevas posicones de $x$ y $y$ se siguen las ecuaciones:\n",
    "    \n",
    "$ x' = xcos(\\theta) - ysin(\\theta)  $\n",
    "\n",
    "$ y' = xsin(\\theta) + ycos(\\theta)  $\n",
    "\n",
    "\n",
    "Para considerar la translación del centro de rotación se escriben como:\n",
    "\n",
    "$ x' = (x - x_{0})cos(\\theta) - (y - y_{0})sin(\\theta)  +   x_{0}$\n",
    "\n",
    "$ y' = (x - x_{0})sin(\\theta) + (x - x_{0})cos(\\theta)  + y_{0} $\n",
    "    \n",
    "    \n",
    "Donde $x_{0}$ y $y_{0}$ son los centros calculados anteriormente.\n",
    "\n",
    "Estas ecuaciones se pueden ver dentro del ciclo. Se utilizan el seno y coseno y centro ya calculados.\n",
    "\n",
    "En el mismo ciclo se calcula una rotación de la imagen original y una rotación de la imagen ya trasladada"
   ]
  },
  {
   "cell_type": "code",
   "execution_count": 7,
   "id": "790e8e3c",
   "metadata": {},
   "outputs": [],
   "source": [
    "###ROTACION\n",
    "for y in range(y_max):\n",
    "    for x in range(x_max):\n",
    "    \n",
    "        x_p = int((x-centro_x)*coseno - (y-centro_y)*seno + centro_x)\n",
    "        y_p = int((x-centro_x)*seno + (y-centro_y)*coseno + centro_y)\n",
    "        if 0<= y_p < y_max  and 0<= x_p < x_max :\n",
    "            gray_rotated[y_p,x_p]= gray[y,x] *(1.0/255.0)\n",
    "            gray_transRot[y_p,x_p]= gray_translated[y,x] \n",
    "            \n",
    "cv2.imshow('Imagen Rotada', gray_rotated)"
   ]
  },
  {
   "cell_type": "code",
   "execution_count": 8,
   "id": "f1346ced",
   "metadata": {},
   "outputs": [],
   "source": [
    "\n",
    "cv2.imshow('Imagen Trasladada y Rotada', gray_transRot)\n",
    "cv2.waitKey()\n",
    "  \n",
    "cv2.destroyAllWindows()   "
   ]
  },
  {
   "cell_type": "code",
   "execution_count": null,
   "id": "6a005675",
   "metadata": {},
   "outputs": [],
   "source": []
  },
  {
   "cell_type": "code",
   "execution_count": null,
   "id": "1386a499",
   "metadata": {},
   "outputs": [],
   "source": []
  }
 ],
 "metadata": {
  "kernelspec": {
   "display_name": "Python 3",
   "language": "python",
   "name": "python3"
  },
  "language_info": {
   "codemirror_mode": {
    "name": "ipython",
    "version": 3
   },
   "file_extension": ".py",
   "mimetype": "text/x-python",
   "name": "python",
   "nbconvert_exporter": "python",
   "pygments_lexer": "ipython3",
   "version": "3.8.8"
  }
 },
 "nbformat": 4,
 "nbformat_minor": 5
}
