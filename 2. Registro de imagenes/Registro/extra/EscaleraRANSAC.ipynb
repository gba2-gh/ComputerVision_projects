{
 "cells": [
  {
   "cell_type": "markdown",
   "id": "f2027b3a",
   "metadata": {},
   "source": [
    "# Alinear imagen con algoritmo basado en RANSAC"
   ]
  },
  {
   "cell_type": "markdown",
   "id": "ab7f7ed7",
   "metadata": {},
   "source": [
    "Importar paquetes y funcion de recta"
   ]
  },
  {
   "cell_type": "code",
   "execution_count": 1,
   "id": "38c21c17",
   "metadata": {},
   "outputs": [],
   "source": [
    "import cv2\n",
    "import numpy as np\n",
    "import math\n",
    "#import matplotlib.pyplot as plt\n",
    "from ipynb.fs.full.recta import *"
   ]
  },
  {
   "cell_type": "markdown",
   "id": "46fe0636",
   "metadata": {},
   "source": [
    "Datos de entrada"
   ]
  },
  {
   "cell_type": "code",
   "execution_count": 2,
   "id": "933317c0",
   "metadata": {},
   "outputs": [],
   "source": [
    "img = cv2.imread('C:\\\\Users\\gba2\\Desktop\\MCC 2022-I\\Vision Computacional\\Registro de imagenes\\Imagenes y pdf tarea registro\\escalera_fijaTEST.jpeg')\n",
    "imgDes = cv2.imread('C:\\\\Users\\gba2\\Desktop\\MCC 2022-I\\Vision Computacional\\Registro de imagenes\\Imagenes y pdf tarea registro\\escalera_des.jpeg')\n",
    "\n",
    "height, width = img.shape[:2]\n",
    "\n",
    "imgGray = cv2.cvtColor(img, cv2.COLOR_BGR2GRAY) \n",
    "imgDesGray = cv2.cvtColor(imgDes, cv2.COLOR_BGR2GRAY) "
   ]
  },
  {
   "cell_type": "markdown",
   "id": "3c31f135",
   "metadata": {},
   "source": [
    "Deteccion de puntos con SIFT"
   ]
  },
  {
   "cell_type": "code",
   "execution_count": 3,
   "id": "7f8fbdef",
   "metadata": {},
   "outputs": [],
   "source": [
    "sift = cv2.SIFT_create()\n",
    "hp = sift.detect(imgGray,None)\n",
    "imgHP=cv2.drawKeypoints(imgGray,hp,imgGray)\n",
    "\n",
    "hpDes = sift.detect(imgDesGray,None)\n",
    "imgDesHP=cv2.drawKeypoints(imgDesGray,hpDes,imgDesGray)\n",
    "\n"
   ]
  },
  {
   "cell_type": "markdown",
   "id": "5b69862a",
   "metadata": {},
   "source": [
    "Se llama a la funcion recta, retorna coeficientes de la recta y puntos extremos"
   ]
  },
  {
   "cell_type": "code",
   "execution_count": 4,
   "id": "0c6fe625",
   "metadata": {},
   "outputs": [
    {
     "name": "stdout",
     "output_type": "stream",
     "text": [
      "a = 2.563657694074733\n",
      "b = -391.789432069732\n",
      "a = -0.37280552198071365\n",
      "b = 343.8546366214684\n",
      "zeta= [   2.56365769 -391.78943207]\n",
      "zeta2= [ -0.37280552 343.85463662]\n"
     ]
    }
   ],
   "source": [
    "z, x1, y1, x2, y2 =recta(hp)\n",
    "zD, x1D, y1D, x2D, y2D =recta(hpDes)\n",
    "print('zeta=', z)\n",
    "print('zeta2=', zD)"
   ]
  },
  {
   "cell_type": "markdown",
   "id": "dcbe379f",
   "metadata": {},
   "source": [
    "<img src=\"recta1.png\" width=\"300\">\n",
    "\n",
    "<img src=\"recta2.png\" width=\"300\">"
   ]
  },
  {
   "cell_type": "code",
   "execution_count": null,
   "id": "a10acd78",
   "metadata": {},
   "outputs": [],
   "source": [
    "\n",
    "cv2.line(imgHP, (x1, y1), (x2, y2), (0, 255, 0), 2)\n",
    "cv2.line(imgDesHP, (x2D, y1D), (x1D, y2D), (0, 255, 0), 2)\n",
    "\n",
    "\n",
    "cv2.imshow(\"Hitpoints referencia\", imgHP)\n",
    "cv2.imshow(\"Hitpoints desp\", imgDesHP)\n",
    "cv2.waitKey()\n",
    "cv2.destroyAllWindows()"
   ]
  }
 ],
 "metadata": {
  "kernelspec": {
   "display_name": "Python 3",
   "language": "python",
   "name": "python3"
  },
  "language_info": {
   "codemirror_mode": {
    "name": "ipython",
    "version": 3
   },
   "file_extension": ".py",
   "mimetype": "text/x-python",
   "name": "python",
   "nbconvert_exporter": "python",
   "pygments_lexer": "ipython3",
   "version": "3.8.8"
  }
 },
 "nbformat": 4,
 "nbformat_minor": 5
}
