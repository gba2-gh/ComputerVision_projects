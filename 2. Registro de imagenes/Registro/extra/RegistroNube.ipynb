{
 "cells": [
  {
   "cell_type": "markdown",
   "id": "faefc45e",
   "metadata": {},
   "source": [
    "# Registro nube de puntos"
   ]
  },
  {
   "cell_type": "code",
   "execution_count": 1,
   "id": "333bd133",
   "metadata": {},
   "outputs": [],
   "source": [
    "import cv2\n",
    "import numpy as np\n",
    "import open3d as o3d\n",
    "import copy\n",
    "from scipy.spatial.distance import directed_hausdorff"
   ]
  },
  {
   "cell_type": "markdown",
   "id": "f299a2ac",
   "metadata": {},
   "source": [
    "Leer datos y asignarle un color uniforme"
   ]
  },
  {
   "cell_type": "code",
   "execution_count": 2,
   "id": "44826aae",
   "metadata": {},
   "outputs": [
    {
     "data": {
      "text/plain": [
       "PointCloud with 100250 points."
      ]
     },
     "execution_count": 2,
     "metadata": {},
     "output_type": "execute_result"
    }
   ],
   "source": [
    "pcd = o3d.io.read_point_cloud('dragon_fijo.ply')\n",
    "pcd2 = o3d.io.read_point_cloud('dragon_des.ply')\n",
    "\n",
    "pcd.paint_uniform_color([1, 0.5, 0])\n",
    "pcd2.paint_uniform_color([0, 0.651, 0.929])"
   ]
  },
  {
   "cell_type": "markdown",
   "id": "896b7f54",
   "metadata": {},
   "source": [
    "Matriz de transformacion inicial y threshold"
   ]
  },
  {
   "cell_type": "code",
   "execution_count": 3,
   "id": "cae61cef",
   "metadata": {},
   "outputs": [],
   "source": [
    "threshold = 0.009\n",
    "trans_matrix = np.asarray([[1.0, 0.0, 0.0, 0.],\n",
    "                             [0.0, 1.0, 0.0, 0.0],\n",
    "                             [0.0, 0.0, 1.0, 0.0], \n",
    "                             [0.0, 0.0, 0.0, 1.0]])"
   ]
  },
  {
   "cell_type": "markdown",
   "id": "a9f34fee",
   "metadata": {},
   "source": [
    "Aplicar funcion de ICP, imprimir matriz de transformacion resultante"
   ]
  },
  {
   "cell_type": "code",
   "execution_count": 4,
   "id": "51b33a25",
   "metadata": {},
   "outputs": [
    {
     "name": "stdout",
     "output_type": "stream",
     "text": [
      "Apply point-to-point ICP\n",
      "RegistrationResult with fitness=1.000000e+00, inlier_rmse=1.164588e-03, and correspondence_set size of 100250\n",
      "Access transformation to get result.\n",
      "Transformation is:\n",
      "[[ 9.82626509e-01  1.85094433e-01  1.36086113e-02  1.29275536e-03]\n",
      " [-1.84998976e-01  9.82706328e-01 -7.97826514e-03 -1.63432211e-04]\n",
      " [-1.48500009e-02  5.32207567e-03  9.99875569e-01 -6.95582978e-04]\n",
      " [ 0.00000000e+00  0.00000000e+00  0.00000000e+00  1.00000000e+00]]\n",
      "\n"
     ]
    }
   ],
   "source": [
    "reg_p2p = o3d.pipelines.registration.registration_icp(pcd2, pcd, threshold, trans_matrix,o3d.pipelines.registration.TransformationEstimationPointToPoint())\n",
    "print(reg_p2p)\n",
    "print(\"Matriz de transformacion:\")\n",
    "print(reg_p2p.transformation)\n",
    "print(\"\")"
   ]
  },
  {
   "cell_type": "markdown",
   "id": "9d0f8873",
   "metadata": {},
   "source": [
    "Transformar nube de puntos desplazada"
   ]
  },
  {
   "cell_type": "code",
   "execution_count": 5,
   "id": "7d9d8978",
   "metadata": {},
   "outputs": [
    {
     "data": {
      "text/plain": [
       "PointCloud with 100250 points."
      ]
     },
     "execution_count": 5,
     "metadata": {},
     "output_type": "execute_result"
    }
   ],
   "source": [
    "pcd2.transform(reg_p2p.transformation)"
   ]
  },
  {
   "cell_type": "markdown",
   "id": "fe7fceb7",
   "metadata": {},
   "source": [
    "Calcular distancia de Hausdorff con funcion"
   ]
  },
  {
   "cell_type": "code",
   "execution_count": 6,
   "id": "7e34d1d4",
   "metadata": {},
   "outputs": [
    {
     "name": "stdout",
     "output_type": "stream",
     "text": [
      "Distancia Hausdorf:  0.004242925161647568\n"
     ]
    }
   ],
   "source": [
    "haus=directed_hausdorff(pcd2.points, pcd.points)\n",
    "print('Distancia Hausdorf: ', haus[0])"
   ]
  },
  {
   "cell_type": "markdown",
   "id": "718f8e5c",
   "metadata": {},
   "source": [
    "Desplegar las dos nubes de puntos"
   ]
  },
  {
   "cell_type": "code",
   "execution_count": 7,
   "id": "9d071ee3",
   "metadata": {},
   "outputs": [],
   "source": [
    "o3d.visualization.draw_geometries([pcd, pcd2])"
   ]
  }
 ],
 "metadata": {
  "kernelspec": {
   "display_name": "Python 3",
   "language": "python",
   "name": "python3"
  },
  "language_info": {
   "codemirror_mode": {
    "name": "ipython",
    "version": 3
   },
   "file_extension": ".py",
   "mimetype": "text/x-python",
   "name": "python",
   "nbconvert_exporter": "python",
   "pygments_lexer": "ipython3",
   "version": "3.8.8"
  }
 },
 "nbformat": 4,
 "nbformat_minor": 5
}
