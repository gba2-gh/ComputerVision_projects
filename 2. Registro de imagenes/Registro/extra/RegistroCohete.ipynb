{
 "cells": [
  {
   "cell_type": "markdown",
   "id": "e584ee2e",
   "metadata": {},
   "source": [
    "# Registro Cohete"
   ]
  },
  {
   "cell_type": "markdown",
   "id": "fe8eca01",
   "metadata": {},
   "source": [
    "importar paquetes y funcion de rotacion"
   ]
  },
  {
   "cell_type": "code",
   "execution_count": 4,
   "id": "441c102e",
   "metadata": {},
   "outputs": [],
   "source": [
    "import cv2\n",
    "import numpy as np\n",
    "import math\n",
    "from ipynb.fs.full.rotacion import *\n"
   ]
  },
  {
   "cell_type": "markdown",
   "id": "13b19e15",
   "metadata": {},
   "source": [
    "Leer datos de entrada y escalarlos de 0 a 1, para escalar el error"
   ]
  },
  {
   "cell_type": "code",
   "execution_count": 5,
   "id": "5f567da1",
   "metadata": {},
   "outputs": [],
   "source": [
    "img_or = cv2.imread('C:\\\\Users\\gba2\\Desktop\\MCC 2022-I\\Vision Computacional\\Registro de imagenes\\Imagenes y pdf tarea registro\\cohete_fijo.png')\n",
    "img_des= cv2.imread('C:\\\\Users\\gba2\\Desktop\\MCC 2022-I\\Vision Computacional\\Registro de imagenes\\Imagenes y pdf tarea registro\\cohete_des.png')\n",
    "\n",
    "img_des = cv2.cvtColor(img_des, cv2.COLOR_BGR2GRAY) *(1.0/255.0)\n",
    "img_or = cv2.cvtColor(img_or, cv2.COLOR_BGR2GRAY) *(1.0/255.0)\n"
   ]
  },
  {
   "cell_type": "markdown",
   "id": "f7ca3de5",
   "metadata": {},
   "source": [
    "Funcion de padding para comparar imagenes del mismo alto y ancho"
   ]
  },
  {
   "cell_type": "code",
   "execution_count": 6,
   "id": "7defe4ea",
   "metadata": {},
   "outputs": [
    {
     "ename": "TypeError",
     "evalue": "cannot unpack non-iterable NoneType object",
     "output_type": "error",
     "traceback": [
      "\u001b[1;31m---------------------------------------------------------------------------\u001b[0m",
      "\u001b[1;31mTypeError\u001b[0m                                 Traceback (most recent call last)",
      "\u001b[1;32m<ipython-input-6-ffdce41f685e>\u001b[0m in \u001b[0;36m<module>\u001b[1;34m\u001b[0m\n\u001b[1;32m----> 1\u001b[1;33m \u001b[0mimg_desPAD\u001b[0m\u001b[1;33m,\u001b[0m \u001b[0mimg_orPAD\u001b[0m \u001b[1;33m=\u001b[0m \u001b[0mpadding\u001b[0m\u001b[1;33m(\u001b[0m\u001b[0mimg_des\u001b[0m\u001b[1;33m,\u001b[0m \u001b[0mimg_or\u001b[0m\u001b[1;33m)\u001b[0m\u001b[1;33m\u001b[0m\u001b[1;33m\u001b[0m\u001b[0m\n\u001b[0m",
      "\u001b[1;31mTypeError\u001b[0m: cannot unpack non-iterable NoneType object"
     ]
    }
   ],
   "source": [
    "img_desPAD, img_orPAD = padding(img_des, img_or)"
   ]
  },
  {
   "cell_type": "markdown",
   "id": "bebd1820",
   "metadata": {},
   "source": [
    "Se especifica el incremento de \\theta"
   ]
  },
  {
   "cell_type": "code",
   "execution_count": null,
   "id": "7d2db57d",
   "metadata": {},
   "outputs": [],
   "source": [
    "thetaInc = 20\n",
    "theta=0\n",
    "\n",
    "it=0\n",
    "err= emc(img_orPAD,img_desPAD)\n",
    "err_l=[err]"
   ]
  },
  {
   "cell_type": "markdown",
   "id": "6c2a2468",
   "metadata": {},
   "source": [
    "Se rota la imagen en incrementos de theta. Despues de la rotación se pasa a la funcion de padding y luego se calcula el error.\n",
    "Loop termina cuando el error es menor a un parametro dado o cuando la imagen dio una vuelta completa"
   ]
  },
  {
   "cell_type": "code",
   "execution_count": null,
   "id": "4ad6526f",
   "metadata": {},
   "outputs": [],
   "source": [
    "while err >= 0.005 and theta <=360:\n",
    "    it +=1\n",
    "    theta += thetaInc\n",
    "    img_desROT = rotacion(img_des, theta)\n",
    "\n",
    "    img_desPAD, img_orPAD = padding(img_desROT, img_or)\n",
    "\n",
    "    err= emc(img_orPAD,img_desPAD)\n",
    "    err_l.append(err)"
   ]
  },
  {
   "cell_type": "markdown",
   "id": "7280be49",
   "metadata": {},
   "source": [
    "Con el angulo resultante de theta se forma la matriz de rotacion"
   ]
  },
  {
   "cell_type": "code",
   "execution_count": null,
   "id": "c564a6ce",
   "metadata": {},
   "outputs": [],
   "source": [
    "M=[[math.cos(theta), -math.sin(theta)],\n",
    "   [math.sin(theta), math.cos(theta)]]\n",
    "print('M= ', M)"
   ]
  },
  {
   "cell_type": "code",
   "execution_count": null,
   "id": "abfd6b8b",
   "metadata": {},
   "outputs": [],
   "source": [
    "resultado = rotacion(img_des, theta) \n",
    "\n",
    "cv2.imshow(\"Original\", img_or)\n",
    "cv2.imshow('Desplazada', img_des)\n",
    "cv2.imshow('Resultado', resultado)\n",
    "\n",
    "print(\"theta= \",theta)\n",
    "print(\"iteraciones= \",it)\n",
    "print(\"error= \",err_l)\n",
    "\n",
    "cv2.waitKey()\n",
    "cv2.destroyAllWindows()   "
   ]
  },
  {
   "cell_type": "code",
   "execution_count": null,
   "id": "f67aea31",
   "metadata": {},
   "outputs": [],
   "source": []
  },
  {
   "cell_type": "code",
   "execution_count": null,
   "id": "994dc2c4",
   "metadata": {},
   "outputs": [],
   "source": []
  }
 ],
 "metadata": {
  "kernelspec": {
   "display_name": "Python 3",
   "language": "python",
   "name": "python3"
  },
  "language_info": {
   "codemirror_mode": {
    "name": "ipython",
    "version": 3
   },
   "file_extension": ".py",
   "mimetype": "text/x-python",
   "name": "python",
   "nbconvert_exporter": "python",
   "pygments_lexer": "ipython3",
   "version": "3.8.8"
  }
 },
 "nbformat": 4,
 "nbformat_minor": 5
}
