{
 "cells": [
  {
   "cell_type": "code",
   "execution_count": 1,
   "id": "aa0f6620",
   "metadata": {},
   "outputs": [],
   "source": [
    "import cv2\n",
    "import numpy as np\n",
    "import math\n",
    "import matplotlib.pyplot as plt\n",
    "from random import randint\n",
    "\n"
   ]
  },
  {
   "cell_type": "markdown",
   "id": "8920a182",
   "metadata": {},
   "source": [
    "Se calcula distancia perpendicular con:\n",
    "\n",
    "$\\frac{Ax_{0} + BY_{0} + C}{\\sqrt{A^{2}+B^{2}}}$"
   ]
  },
  {
   "cell_type": "code",
   "execution_count": 2,
   "id": "7fbf20c8",
   "metadata": {},
   "outputs": [],
   "source": [
    "def recta(hp, img, margen, ite):\n",
    "    totalPoints_max=0\n",
    "    x=[]\n",
    "    y=[]\n",
    "    for i in range(len(hp)):\n",
    "        x.append(hp[i].pt[0])\n",
    "        y.append(hp[i].pt[1])\n",
    "\n",
    "    #RANSAC\n",
    "   \n",
    "    for k in range(ite):\n",
    "        #escoger 2 puntos al azar\n",
    "        r1 = randint(0,len(x)-1)\n",
    "        r2 = randint(0,len(x)-1)\n",
    "        p1 = np.array([x[r1], y[r1]])\n",
    "        p2 = np.array([x[r2], y[r2]])\n",
    "        totalPoints=0\n",
    "        a=(p2[1] - p1[1])\n",
    "        b=(p1[0] - p2[0])\n",
    "        c=(p1[1]*p2[0] - p1[0]*p2[1])\n",
    "        norm =math.sqrt(a*a+b*b)\n",
    "        #Contar puntos cercanos\n",
    "        if norm !=0:\n",
    "            for i in range(len(x)):\n",
    "                p3 =np.array([x[i],y[i]])\n",
    "                ##Distancia entre recta y un punto\n",
    "                #d = np.linalg.norm(np.cross(p2-p1, p1-p3))/np.linalg.norm(p2-p1)      \n",
    "                d =abs(a*p3[0] + b*p3[1] + c ) / norm\n",
    "                if d <=margen:\n",
    "                    totalPoints +=1\n",
    "        #Almacenar la linea con mayor cantidad de puntos cercanos\n",
    "        if totalPoints > totalPoints_max:\n",
    "            totalPoints_max = totalPoints\n",
    "            x_r = np.array([p1[0], p2[0]])\n",
    "            y_r = np.array([p1[1], p2[1]])\n",
    "    \n",
    "    print('x = ', x_r, 'y= ', y_r)\n",
    "    print('Puntos totales= ', totalPoints_max)\n",
    "\n",
    "    #Coeficientes de recta elegida\n",
    "    z = np.polyfit(x_r, y_r, 1)\n",
    "    print ('a =', z[0])\n",
    "    print ('b =', z[1])\n",
    "\n",
    "\n",
    "    #Plot\n",
    "    polynomial = np.poly1d(z)\n",
    "    x_axis = np.linspace(0,500,100)\n",
    "    y_axis = polynomial(x_axis)\n",
    "\n",
    "    plt.plot(x_axis, y_axis)\n",
    "    plt.plot( x[0], y[0], 'go' )\n",
    "    plt.plot( x[100], y[100], 'go' )\n",
    "    plt.plot( x[178], y[178], 'go' )\n",
    "    plt.grid('on')\n",
    "    plt.show()\n",
    "\n",
    "    #Dibujar linea\n",
    "    cv2.line(img, (int(x_r[0]), int(y_r[0])), (int(x_r[1]), int(y_r[1])), (0, 255, 0), 2)\n",
    "\n",
    "\n",
    "    return z\n",
    "\n",
    "    "
   ]
  },
  {
   "cell_type": "code",
   "execution_count": null,
   "id": "3abe1857",
   "metadata": {},
   "outputs": [],
   "source": [
    " "
   ]
  },
  {
   "cell_type": "code",
   "execution_count": null,
   "id": "87e90d8a",
   "metadata": {},
   "outputs": [],
   "source": []
  }
 ],
 "metadata": {
  "kernelspec": {
   "display_name": "Python 3",
   "language": "python",
   "name": "python3"
  },
  "language_info": {
   "codemirror_mode": {
    "name": "ipython",
    "version": 3
   },
   "file_extension": ".py",
   "mimetype": "text/x-python",
   "name": "python",
   "nbconvert_exporter": "python",
   "pygments_lexer": "ipython3",
   "version": "3.8.8"
  }
 },
 "nbformat": 4,
 "nbformat_minor": 5
}
