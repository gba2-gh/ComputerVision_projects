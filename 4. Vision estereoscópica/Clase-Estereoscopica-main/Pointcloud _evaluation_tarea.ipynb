{
 "cells": [
  {
   "cell_type": "markdown",
   "id": "b248cd3c",
   "metadata": {},
   "source": [
    "### Camara estereoscopica\n",
    "### Evaluación nube de puntos\n",
    "##### Gibrán Zazueta"
   ]
  },
  {
   "cell_type": "code",
   "execution_count": 1,
   "id": "8f263a57",
   "metadata": {},
   "outputs": [
    {
     "name": "stdout",
     "output_type": "stream",
     "text": [
      "[WinError 183] Cannot create a file when that file already exists: 'test_images/009'\n"
     ]
    }
   ],
   "source": [
    "import open3d as o3d\n",
    "import numpy as np\n",
    "import copy\n",
    "import time\n",
    "import os\n",
    "import sys\n",
    "import glob\n",
    "import yaml\n",
    "import pyvista as pv\n",
    "import pymeshfix as mf\n",
    "\n",
    "from dictionary_manager import get_serial_dictionary\n",
    "\n",
    "# Directory  \n",
    "directory = \"009\"\n",
    "patient = 'carlos-rivas'\n",
    "\n",
    "# Parent Directory path  \n",
    "parent_dir = \"test_images/\"\n",
    "\n",
    "# Path  \n",
    "path = os.path.join(parent_dir, directory)\n",
    "\n",
    "try:  \n",
    "    os.mkdir(path)  \n",
    "except OSError as error:  \n",
    "    print(error)\n"
   ]
  },
  {
   "cell_type": "code",
   "execution_count": 2,
   "id": "17ee642a",
   "metadata": {},
   "outputs": [],
   "source": [
    "def reconstruction(pc, patient, path): # Depth relates to the mesh quality, the bigger = more details\n",
    "    poisson_mesh = o3d.geometry.TriangleMesh.create_from_point_cloud_poisson(pc, depth=6, width=0, scale=1.1, linear_fit=False)[0] \n",
    "    bbox = pc.get_axis_aligned_bounding_box()\n",
    "    p_mesh_crop = poisson_mesh.crop(bbox)\n",
    "    \n",
    "    filename = patient + '_mesh_poisson.ply'\n",
    "    o3d.io.write_triangle_mesh(path + '/' + filename, p_mesh_crop)\n",
    "    \n",
    "    mesh = pv.read(path + '/' + filename)\n",
    "    meshfix = mf.MeshFix(mesh)\n",
    "    meshfix.repair()\n",
    "    meshfix.mesh.save(path + '/' + filename)\n",
    "    \n",
    "    mesh = o3d.io.read_triangle_mesh(path + '/' + filename)\n",
    "    simple = mesh.filter_smooth_simple(3)\n",
    "    taubin = simple.filter_smooth_taubin(2) \n",
    "    \n",
    "    o3d.io.write_triangle_mesh(path + '/' + filename, taubin)\n",
    "    mesh = pv.read(path + '/' + filename)\n",
    "    \n",
    "    return mesh"
   ]
  },
  {
   "cell_type": "markdown",
   "id": "44c50ab0",
   "metadata": {},
   "source": [
    "Nube de puntos original"
   ]
  },
  {
   "cell_type": "code",
   "execution_count": 3,
   "id": "806d67fb",
   "metadata": {},
   "outputs": [
    {
     "name": "stdout",
     "output_type": "stream",
     "text": [
      "PointCloud with 22986 points.\n",
      "[[-54.35576762  39.15654645   5.67182065]\n",
      " [-55.03675593  34.8927525    8.43971921]\n",
      " [-53.46392573  40.72313962  11.03596975]\n",
      " ...\n",
      " [ 18.65719282 -67.70831027  -3.72476195]\n",
      " [ 16.33579313 -68.65908923  -0.90837001]\n",
      " [ 16.04756414 -68.65908923  -3.83472346]]\n"
     ]
    }
   ],
   "source": [
    "pcd = o3d.io.read_point_cloud(path + \"/carlos-rivas_mesh_oriented_original.ply\")\n",
    "print(pcd)\n",
    "print(np.asarray(pcd.points))\n",
    "#o3d.visualization.draw_geometries([pcd])\n"
   ]
  },
  {
   "cell_type": "markdown",
   "id": "fd09032e",
   "metadata": {},
   "source": [
    "Mesh de entrada"
   ]
  },
  {
   "cell_type": "code",
   "execution_count": 4,
   "id": "0e3e56f0",
   "metadata": {},
   "outputs": [
    {
     "name": "stdout",
     "output_type": "stream",
     "text": [
      "Matriz T=  [[-1.00000000e+00 -1.22464680e-16  0.00000000e+00  0.00000000e+00]\n",
      " [-2.12657685e-17  1.73648178e-01 -9.84807753e-01  0.00000000e+00]\n",
      " [ 1.20604166e-16 -9.84807753e-01 -1.73648178e-01  0.00000000e+00]\n",
      " [ 0.00000000e+00  0.00000000e+00  0.00000000e+00  1.00000000e+00]]\n"
     ]
    }
   ],
   "source": [
    "mesh = o3d.io.read_triangle_mesh(path + \"/carlos-rivas_mesh_poisson.ply\")\n",
    "mesh.scale(1000, center=mesh.get_center())\n",
    "\n",
    "T = np.eye(4)\n",
    "T[:3, :3] = mesh.get_rotation_matrix_from_xyz((100*(np.pi/180),0,np.pi))\n",
    "print(\"Matriz T= \",T)\n",
    "\n",
    "mesh_t = copy.deepcopy(mesh)\n",
    "mesh_t = mesh_t.transform(T)"
   ]
  },
  {
   "cell_type": "code",
   "execution_count": 5,
   "id": "23951c70",
   "metadata": {},
   "outputs": [
    {
     "name": "stdout",
     "output_type": "stream",
     "text": [
      "RegistrationResult with fitness=1.000000e+00, inlier_rmse=3.258069e+00, and correspondence_set size of 7950\n",
      "Access transformation to get result.\n",
      "Matriz de transformacion:\n",
      "[[ 0.96968336 -0.04336701  0.24048594 -1.31616257]\n",
      " [ 0.05278203  0.99806577 -0.03284487 18.35660041]\n",
      " [-0.2385964   0.04454246  0.97009676  0.21153793]\n",
      " [ 0.          0.          0.          1.        ]]\n",
      "\n"
     ]
    },
    {
     "data": {
      "text/plain": [
       "PointCloud with 7950 points."
      ]
     },
     "execution_count": 5,
     "metadata": {},
     "output_type": "execute_result"
    }
   ],
   "source": [
    "from scipy.spatial.distance import directed_hausdorff\n",
    "from scipy.spatial import distance\n",
    "import math\n",
    "\n",
    "points=np.asarray(mesh_t.vertices)\n",
    "pcd2 = o3d.geometry.PointCloud()\n",
    "pcd2.points = o3d.utility.Vector3dVector(points)\n",
    "pcd2.paint_uniform_color([0, 0, 0.929])\n",
    "\n",
    "#o3d.visualization.draw_geometries([pcd, pcd3])\n",
    "\n",
    "trans_matrix = np.eye(4)\n",
    "reg_p2p = o3d.pipelines.registration.registration_icp(pcd2, pcd, 7000, trans_matrix,o3d.pipelines.registration.TransformationEstimationPointToPoint())\n",
    "print(reg_p2p)\n",
    "print(\"Matriz de transformacion:\")\n",
    "print(reg_p2p.transformation)\n",
    "print(\"\")\n",
    "\n",
    "\n",
    "pcd2.transform(reg_p2p.transformation)"
   ]
  },
  {
   "cell_type": "markdown",
   "id": "50e49ba8",
   "metadata": {},
   "source": [
    "##### Hausdorff"
   ]
  },
  {
   "cell_type": "code",
   "execution_count": 6,
   "id": "24340f28",
   "metadata": {},
   "outputs": [
    {
     "name": "stdout",
     "output_type": "stream",
     "text": [
      "Distancia Hausdorff:  11.260386741064313\n"
     ]
    }
   ],
   "source": [
    "points_t=np.asarray(pcd2.points)\n",
    "points_or=np.asarray(pcd.points)\n",
    "\n",
    "#Hausdorff\n",
    "haus=directed_hausdorff(points_t, points_or)\n",
    "print('Distancia Hausdorff: ', haus[0])"
   ]
  },
  {
   "cell_type": "markdown",
   "id": "d42a26d0",
   "metadata": {},
   "source": [
    "###### DICE\n",
    "\n",
    "$D = \\frac{2⋅|A∩B|}{|A| +|B|} $\n",
    "\n",
    "$F1 = \\frac{2⋅|A∩B|}{1/P + 1/R}  $\n",
    "\n",
    "$Precision = \\frac{|A∩B|}{|A|};  $ $Recall = \\frac{|A∩B|}{|B|}  $\n",
    "\n",
    "$D = F1 = \\frac{2}{\\frac{|A|}{|A∩B|} + \\frac{|B|}{|A∩B|}}$"
   ]
  },
  {
   "cell_type": "code",
   "execution_count": 7,
   "id": "3c325230",
   "metadata": {},
   "outputs": [
    {
     "name": "stdout",
     "output_type": "stream",
     "text": [
      "th= 5\n",
      "dice=  0.8796233259337747\n"
     ]
    }
   ],
   "source": [
    "#DICE\n",
    "d1 = pcd2.compute_point_cloud_distance(pcd) ##Distancia de cada punto de pcd al pun to mas cercano de pcd\n",
    "d2 = pcd.compute_point_cloud_distance(pcd2) ##Distancia de cada punto de pcd al pun to mas cercano de pcd2\n",
    "th=5\n",
    "print(\"th=\",th)\n",
    "\n",
    "rec=0\n",
    "prec=0\n",
    "for d in d1:\n",
    "    if d<th:\n",
    "        prec +=1\n",
    "for d in d2:\n",
    "    if d<th:\n",
    "        rec +=1\n",
    "\n",
    "if prec>0 and rec>0:\n",
    "    dice = 2/((len(d1)/prec) + (len(d2)/rec))\n",
    "else:\n",
    "    dice=0\n",
    "\n",
    "print(\"dice= \", dice)"
   ]
  },
  {
   "cell_type": "code",
   "execution_count": 8,
   "id": "83e7709e",
   "metadata": {},
   "outputs": [
    {
     "name": "stdout",
     "output_type": "stream",
     "text": [
      "[Open3D WARNING] Write Ply clamped color value to valid range\n"
     ]
    }
   ],
   "source": [
    "\n",
    "##### 3D MESH\n",
    "mesh_t.transform(reg_p2p.transformation)\n",
    "reconstruction(pcd, 'test', path)\n",
    "mesh_or = o3d.io.read_triangle_mesh(path + \"/test_mesh_poisson.ply\")\n",
    "mesh_or.paint_uniform_color([0.9, 0.706, 0])\n",
    "o3d.visualization.draw_geometries([mesh_or, mesh_t])\n",
    "o3d.visualization.draw_geometries([pcd, pcd2])"
   ]
  },
  {
   "cell_type": "markdown",
   "id": "8cb62eed",
   "metadata": {},
   "source": [
    "Intento de encontrar intersección entre 2 mesh, para calcular DICE.\n",
    "\n",
    "[PyMesh].(https://pymesh.readthedocs.io/en/latest/mesh_boolean.html#boolean-interface)\n",
    "\n",
    "[pygalmesh].(https://github.com/nschloe/pygalmesh#domain-combinations)"
   ]
  },
  {
   "cell_type": "code",
   "execution_count": 9,
   "id": "6890ff6e",
   "metadata": {},
   "outputs": [
    {
     "ename": "ModuleNotFoundError",
     "evalue": "No module named 'pygalmesh'",
     "output_type": "error",
     "traceback": [
      "\u001b[1;31m---------------------------------------------------------------------------\u001b[0m",
      "\u001b[1;31mModuleNotFoundError\u001b[0m                       Traceback (most recent call last)",
      "\u001b[1;32m<ipython-input-9-e2ddfd6b3fcb>\u001b[0m in \u001b[0;36m<module>\u001b[1;34m\u001b[0m\n\u001b[0;32m      1\u001b[0m \u001b[1;32mimport\u001b[0m \u001b[0mmeshio\u001b[0m\u001b[1;33m\u001b[0m\u001b[1;33m\u001b[0m\u001b[0m\n\u001b[0;32m      2\u001b[0m \u001b[1;32mimport\u001b[0m \u001b[0mnumpy\u001b[0m \u001b[1;32mas\u001b[0m \u001b[0mnp\u001b[0m\u001b[1;33m\u001b[0m\u001b[1;33m\u001b[0m\u001b[0m\n\u001b[1;32m----> 3\u001b[1;33m \u001b[1;32mimport\u001b[0m \u001b[0mpygalmesh\u001b[0m\u001b[1;33m\u001b[0m\u001b[1;33m\u001b[0m\u001b[0m\n\u001b[0m\u001b[0;32m      4\u001b[0m \u001b[1;32mimport\u001b[0m \u001b[0mopen3d\u001b[0m \u001b[1;32mas\u001b[0m \u001b[0mo3d\u001b[0m\u001b[1;33m\u001b[0m\u001b[1;33m\u001b[0m\u001b[0m\n\u001b[0;32m      5\u001b[0m \u001b[1;32mfrom\u001b[0m \u001b[0mscipy\u001b[0m\u001b[1;33m.\u001b[0m\u001b[0mspatial\u001b[0m\u001b[1;33m.\u001b[0m\u001b[0mdistance\u001b[0m \u001b[1;32mimport\u001b[0m \u001b[0mdirected_hausdorff\u001b[0m\u001b[1;33m\u001b[0m\u001b[1;33m\u001b[0m\u001b[0m\n",
      "\u001b[1;31mModuleNotFoundError\u001b[0m: No module named 'pygalmesh'"
     ]
    }
   ],
   "source": [
    "import meshio\n",
    "import numpy as np\n",
    "import pygalmesh\n",
    "import open3d as o3d\n",
    "from scipy.spatial.distance import directed_hausdorff\n",
    "\n",
    "mesh_read1=o3d.io.read_triangle_mesh('carlos-rivas_mesh_poisson.ply')\n",
    "mesh_read1.scale(1000, center=mesh_read1.get_center())\n",
    "T = np.eye(4)\n",
    "T[:3, :3] = mesh_read1.get_rotation_matrix_from_xyz((100*(np.pi/180),0,np.pi))\n",
    "#T[0, 3] = 1\n",
    "#T[1, 3] = 1\n",
    "#T[2, 3] = 1\n",
    "mesh_read1 = mesh_read1.transform(T)\n",
    "T2=[[ 0.96971399, -0.04340022,  0.24035639, -1.31605222],\n",
    " [ 0.0528083,   0.99806462, -0.03283757, 18.36227267],\n",
    " [-0.23846605,  0.04453587,  0.97012911,  0.21510744],\n",
    " [ 0.,          0.,          0.,          1.        ]]\n",
    "\n",
    "mesh_read1 = mesh_read1.transform(T2)\n",
    "mesh_read2=o3d.io.read_triangle_mesh('test_mesh_poisson.ply')\n",
    "mesh_read2.paint_uniform_color([1, 0.706, 0])\n",
    "o3d.visualization.draw_geometries([mesh_read1, mesh_read2])\n",
    "\n",
    "o3d.io.write_triangle_mesh('uno.ply', mesh_read1)\n",
    "o3d.io.write_triangle_mesh('dos.ply', mesh_read2)\n",
    "\n",
    "mesh1=meshio.read('uno.ply')\n",
    "mesh2=meshio.read('dos.ply')\n",
    "\n",
    "p=pygalmesh.generate_mesh(mesh1)\n",
    "p=pygalmesh.generate_mesh(mesh2)\n",
    "\n",
    "u = pygalmesh.Difference(mesh1, mesh2)\n",
    "\n",
    "mesh = pygalmesh.generate_mesh(u)\n",
    "mesh.write('out.stl')\n",
    "mesh_read= o3d.io.read_triangle_mesh('out.stl')\n",
    "o3d.visualization.draw_geometries([mesh_read])"
   ]
  }
 ],
 "metadata": {
  "kernelspec": {
   "display_name": "Python 3",
   "language": "python",
   "name": "python3"
  },
  "language_info": {
   "codemirror_mode": {
    "name": "ipython",
    "version": 3
   },
   "file_extension": ".py",
   "mimetype": "text/x-python",
   "name": "python",
   "nbconvert_exporter": "python",
   "pygments_lexer": "ipython3",
   "version": "3.8.8"
  }
 },
 "nbformat": 4,
 "nbformat_minor": 5
}
